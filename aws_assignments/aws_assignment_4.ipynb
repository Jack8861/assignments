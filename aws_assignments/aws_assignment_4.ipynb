{
  "nbformat": 4,
  "nbformat_minor": 0,
  "metadata": {
    "colab": {
      "name": "aws_assignment_4.ipynb",
      "provenance": []
    },
    "kernelspec": {
      "name": "python3",
      "display_name": "Python 3"
    },
    "language_info": {
      "name": "python"
    }
  },
  "cells": [
    {
      "cell_type": "code",
      "execution_count": null,
      "metadata": {
        "id": "W6gjLBuImoIj"
      },
      "outputs": [],
      "source": [
        ""
      ]
    },
    {
      "cell_type": "markdown",
      "source": [
        "# 1. Explain the Snowball concept.\n",
        "\n",
        "With aws snow family we request aws snowball and it gets shipped to the location and after a import/export it gets saved on aws s3 bucket.\n",
        "\n",
        "It is a physical data transport solution to move TBs or PBs of data in or out of aws. you can google a photo of the aws snow ball edge device to see.\n",
        "\n",
        "- You can pay per data transfer job.\n",
        "\n",
        "**snowball edge storage optimized**\n",
        "- 80TB of HDD capacity for block volume and s3 compatible object storage.\n",
        "\n",
        "**Snowball edge compute optimized.**\n",
        "- 42TB of HDD capacity for block volume and s3 compatible object storage.\n",
        "\n",
        "Use cases: large data cloud migration, DC decommision, disaster recovery.\n",
        "\n",
        "AWS snow mobile (its a big truck)\n",
        "\n",
        "### **How it works:**\n",
        "\n",
        "- Request snowball devices from aws console for delivery.\n",
        "- Install the snowball client / aws opsHub on your servers.\n",
        "- Connect the snowball to your servers and copy files using the client.\n",
        "- Ship back the device when your done.\n",
        "- Your data will be loaded into an s3 bucket.\n",
        "- Snowball is completely wiped.\n",
        "\n",
        "\n",
        "### Edge computing\n",
        "- edge computing can be used in places where the internet access is limited (it basically processing hardware)\n",
        "\n",
        "\n",
        "# 2. Make a distinction between NAT Gateways and NAT Instances.\n",
        "\n",
        "### NAT GATEWAY\n",
        "- Highly available. NAT gateways in each Availability Zone are implemented with redundancy. Create a NAT gateway in each Availability Zone to ensure zone-independent architecture.\n",
        "\n",
        "- Managed by AWS. You do not need to perform any maintenance.\n",
        "\n",
        "- Software is optimized for handling NAT traffic.\n",
        "\n",
        "- Charged depending on the number of NAT gateways you use, duration of usage, and amount of data that you send through the NAT gateways.\n",
        "\n",
        "- Uniform offering; you don’t need to decide on the type or size.\n",
        "\n",
        "- Choose the Elastic IP address to associate with a public NAT gateway at creation.\n",
        "\n",
        "### NAT instance\n",
        "- Use a script to manage failover between instances.\n",
        "\n",
        "- Depends on the bandwidth of the instance type.\n",
        "\n",
        "- Managed by you, for example, by installing software updates or operating system patches on the instance.\n",
        "\n",
        "- A generic AMI that's configured to perform NAT.\n",
        "\n",
        "- Charged depending on the number of NAT instances that you use, duration of usage, and instance type and size.\n",
        "\n",
        "- Choose a suitable instance type and size, according to your predicted workload.\n",
        "\n",
        "\n",
        "\n",
        "# 3. Describe the essential components of Amazon Web Services (AWS).\n",
        "\n",
        "1. Simple Storage Service\n",
        "Amazon AWS provides S3 or Simple Storage Service that can be used for sharing large files or small files to large audiences online. Depending on the web server type that you are using, you can quickly run out of resources as sharing huge volumes of data online is very expensive. AWS provides cloud storage for your use that offers scalability for file sharing.\n",
        "\n",
        "2. Simple Email Service\n",
        "When you want to send emails to thousands of customers, you can’t just use an email service like Outlook or Gmail. Even if somehow you manage to send out the emails, email providers like Yahoo and Gmail will treat them as spam messages. Simple Email Service of Amazon is able to handle such transactional emails at an affordable cost.\n",
        "\n",
        "3. CloudFront\n",
        "Web data is transferred from a central server to an edge server’s distributed network which is closer to the location of the end-user. This task is performed by the Content Delivery Network or CDN. This distributes the website traffic loads better, improving the load times and providing a better experience for the end-user. Large CDNs are expensive. Amazon’s CDN service, CloudFront manages to bring everything under a single room and with no limit to its scalability.\n",
        "\n",
        "4. Website hosting\n",
        "AWS offers the advantage of not worrying about exceeding the allocated usage of resources. Hosting a website on AWS might not be a one-click installation but its scalability makes it perfect for hosting different websites.\n",
        "\n",
        "5. File sharing system\n",
        "Normally, in a large company, one central drive is used by all the computers for storing and sharing files with other members of the team. AWS offers a file-sharing system that is best suited for an organization with employees around the world. Once you set everything up, it works on scale forever. You will never run out of drive space and you will have access to the files from anywhere in the world.\n",
        "\n",
        "\n",
        "\n",
        "# 4. When should you utilize a spin-up server? Use examples to demonstrate your point.\n",
        "\n",
        "\n",
        "“Spinning up” a server refers to the discs in the hard-drive of a server physically spinning up to speed to serve their contents. When developing a new web application, it can be useful to test how your website is served via HTTP before hosting publicly. \n",
        "\n",
        "\n",
        "# 5. Explain the concept of outlier car scaling.\n",
        "\n",
        "- When we have a network overload we can set up cloudfront so that it launches instances as needed when the load is more and decreases the number of running instances when the load is less. we have to set this up ourselves."
      ],
      "metadata": {
        "id": "UEI1tE7amtaI"
      }
    },
    {
      "cell_type": "markdown",
      "source": [
        ""
      ],
      "metadata": {
        "id": "KM9qGWehmtb-"
      }
    },
    {
      "cell_type": "markdown",
      "source": [
        ""
      ],
      "metadata": {
        "id": "ZSX70SMLmteG"
      }
    },
    {
      "cell_type": "markdown",
      "source": [
        ""
      ],
      "metadata": {
        "id": "SuO3KiGEmtgU"
      }
    },
    {
      "cell_type": "markdown",
      "source": [
        ""
      ],
      "metadata": {
        "id": "wem4EH1EmtjJ"
      }
    }
  ]
}