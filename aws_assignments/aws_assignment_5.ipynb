{
  "nbformat": 4,
  "nbformat_minor": 0,
  "metadata": {
    "colab": {
      "name": "aws_assignment_5.ipynb",
      "provenance": [],
      "collapsed_sections": []
    },
    "kernelspec": {
      "name": "python3",
      "display_name": "Python 3"
    },
    "language_info": {
      "name": "python"
    }
  },
  "cells": [
    {
      "cell_type": "code",
      "execution_count": null,
      "metadata": {
        "id": "W6gjLBuImoIj"
      },
      "outputs": [],
      "source": [
        ""
      ]
    },
    {
      "cell_type": "markdown",
      "source": [
        "# 1. Describe the Amazon C4 instance.\n",
        "\n",
        "C4 instances are designed for compute-bound workloads, such as high-traffic front-end fleets, MMO gaming, media processing, transcoding, and High Performance Computing (HPC) applications.\n",
        "\n",
        "C4 instances are available in five sizes, offering up to 36 vCPUs. C4 instances are based on Intel Xeon E5-2666 v3 (codename Haswell) processors that run at a base frequency of 2.9 GHz, and can deliver clock speeds as high as 3.5 GHz with Intel ® Turbo Boost. Each C4 instance type is EBS-optimized by default and at no additional cost. This feature provides 500 Mbps to 4,000 Mbps of dedicated throughput to EBS above and beyond the general purpose network throughput provided to the instance. \n",
        "\n",
        "# 2. What is ElastiCache?\n",
        "\n",
        "- Amazon ElastiCache is a fully managed, in-memory caching service supporting flexible, real-time use cases. \n",
        "- You can use ElastiCache for caching, which accelerates application and database performance, or as a primary data store for use cases that don't require durability like session stores, gaming leaderboards, streaming, and analytics. \n",
        "- ElastiCache is compatible with Redis and Memcached. \n",
        "\n",
        "# 3. Explain SimpleDB.\n",
        "\n",
        "- Amazon SimpleDB is a highly available NoSQL data store that offloads the work of database administration. Developers simply store and query data items via web services requests and Amazon SimpleDB does the rest.\n",
        "\n",
        "- Unbound by the strict requirements of a relational database, Amazon SimpleDB is optimized to provide high availability and flexibility, with little or no administrative burden. Behind the scenes, Amazon SimpleDB creates and manages multiple geographically distributed replicas of your data automatically to enable high availability and data durability. The service charges you only for the resources actually consumed in storing your data and serving your requests. You can change your data model on the fly, and data is automatically indexed for you. With Amazon SimpleDB, you can focus on application development without worrying about infrastructure provisioning, high availability, software maintenance, schema and index management, or performance tuning.\n",
        "\n",
        "\n",
        "# 4. Mention the benefits of WAF.\n",
        "\n",
        "- AWS WAF is a web application firewall that helps protect your web applications or APIs against common web exploits and bots that may affect availability, compromise security, or consume excessive resources. \n",
        "- AWS WAF gives you control over how traffic reaches your applications by enabling you to create security rules that control bot traffic and block common attack patterns, such as SQL injection or cross-site scripting. \n",
        "- You can also customize rules that filter out specific traffic patterns. You can get started quickly using Managed Rules for AWS WAF, a pre-configured set of rules managed by AWS or AWS Marketplace Sellers to address issues like the OWASP Top 10 security risks and automated bots that consume excess resources, skew metrics, or can cause downtime. \n",
        "- These rules are regularly updated as new issues emerge. AWS WAF includes a full-featured API that you can use to automate the creation, deployment, and maintenance of security rules.\n",
        "\n",
        "- You can deploy AWS WAF on Amazon CloudFront as part of your CDN solution, the Application Load Balancer that fronts your web servers or origin servers running on EC2, Amazon API Gateway for your REST APIs, or AWS AppSync for your GraphQL APIs. \n",
        "- With AWS WAF, you pay only for what you use and the pricing is based on how many rules you deploy and how many web requests your application receives.\n",
        "\n",
        "\n",
        "# 5. Explain Elastic Block is a store that sells elastic blocks.\n",
        "\n",
        "- Amazon Elastic Block Store (Amazon EBS) provides block level storage volumes for use with EC2 instances. \n",
        "- EBS volumes behave like raw, unformatted block devices. You can mount these volumes as devices on your instances. \n",
        "- EBS volumes that are attached to an instance are exposed as storage volumes that persist independently from the life of the instance. \n",
        "- You can create a file system on top of these volumes, or use them in any way you would use a block device (such as a hard drive). \n",
        "- You can dynamically change the configuration of a volume attached to an instance."
      ],
      "metadata": {
        "id": "KM9qGWehmtb-"
      }
    },
    {
      "cell_type": "markdown",
      "source": [
        ""
      ],
      "metadata": {
        "id": "ZSX70SMLmteG"
      }
    },
    {
      "cell_type": "markdown",
      "source": [
        ""
      ],
      "metadata": {
        "id": "SuO3KiGEmtgU"
      }
    },
    {
      "cell_type": "markdown",
      "source": [
        ""
      ],
      "metadata": {
        "id": "wem4EH1EmtjJ"
      }
    }
  ]
}