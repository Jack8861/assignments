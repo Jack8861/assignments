{
  "nbformat": 4,
  "nbformat_minor": 0,
  "metadata": {
    "colab": {
      "name": "aws_assignment_1.ipynb",
      "provenance": []
    },
    "kernelspec": {
      "name": "python3",
      "display_name": "Python 3"
    },
    "language_info": {
      "name": "python"
    }
  },
  "cells": [
    {
      "cell_type": "code",
      "execution_count": null,
      "metadata": {
        "id": "W6gjLBuImoIj"
      },
      "outputs": [],
      "source": [
        ""
      ]
    },
    {
      "cell_type": "markdown",
      "source": [
        "#  1. Describe how to link numerous sites to a VPC?\n",
        "\n",
        "Now, in terms of aws VPC is the region, we can attach a security group to multiple regions to make it link to numerous sites.\n",
        "\n",
        "# 2. What is the difference between EBS and Instance Store, and how do you explain it?\n",
        "\n",
        "EBS network drives are good but with limited performance.\n",
        "If you want a high performance disk then use a ec2 instance store.\n",
        "\n",
        "- They have better input-output performance\n",
        "- They lose storage if they are stopped\n",
        "- Good for buffer or cache or temporary content\n",
        "- if hardware fails there is a risk of data loss\n",
        "- You will have to be responsible for Backing up and replication\n",
        "\n",
        "# 3. What are the different types of load balancers available in AWS?\n",
        "\n",
        "- Application load balancer ( for http or https only) it is layer 7\n",
        "- Network load balancer (for ultra-high performance and allows TCP) - it is layer 4\n",
        "- classic (Which is retiring) layer 4 and 7\n",
        "\n",
        "# 4. How does AWS IAM make a profit?\n",
        "\n",
        "In simple terms the IAM role is provided for free by AWS. It is like a manager so with IAM, you can control access to services and resources under specific conditions. Use IAM policies to manage permissions for your workforce and systems to ensure least privilege. \n",
        "\n",
        "\n",
        "# 5. Demonstrate the DynamoDB support mechanism.\n",
        "\n",
        "- Amazon DynamoDB is a fully managed NoSQL database service that provides fast and predictable performance with seamless scalability. \n",
        "- DynamoDB lets you offload the administrative burdens of operating and scaling a distributed database so that you don't have to worry about hardware provisioning, setup and configuration, replication, software patching, or cluster scaling.\n",
        "\n",
        "- Global tables build on the global Amazon DynamoDB footprint to provide you with a fully managed, multi-region, and multi-active database that delivers fast, local, read and write performance for massively scaled, global applications. \n",
        "- Global tables replicate your DynamoDB tables automatically across your choice of AWS Regions.\n",
        "\n",
        "- Global tables eliminate the difficult work of replicating data between Regions and resolving update conflicts, enabling you to focus on your application's business logic. \n",
        "- In addition, global tables enable your applications to stay highly available even in the unlikely event of isolation or degradation of an entire Region.\n",
        "\n",
        "### how it works:\n",
        "\n",
        "- When you create a DynamoDB global table, it consists of multiple replica tables (one per AWS Region) that DynamoDB treats as a single unit. Every replica has the same table name and the same primary key schema. \n",
        "- When an application writes data to a replica table in one Region, DynamoDB propagates the write to the other replica tables in the other AWS Regions automatically.\n",
        "\n",
        "### For example:\n",
        "\n",
        "- suppose that you have a large customer base spread across three geographic areas—the US East Coast, the US West Coast, and Western Europe. Customers can update their profile information by using your application. \n",
        "- Without a managed replication solution, you could write code to replicate data changes among the tables for each of these Regions. \n",
        "- However, doing this would be a time-consuming and labor-intensive effort.\n",
        "Instead of writing your own code, you could create a global table referencing your three Region tables and DynamoDB would then automatically replicate data changes among those tables so that changes to one Region would seamlessly propagate to the other Regions.\n",
        "- In addition, if one of the AWS Regions were to become temporarily unavailable, your customers could still access the same data in the other Regions."
      ],
      "metadata": {
        "id": "_GU0rdDZmtKs"
      }
    },
    {
      "cell_type": "markdown",
      "source": [
        ""
      ],
      "metadata": {
        "id": "wq4vAON4mtM1"
      }
    },
    {
      "cell_type": "markdown",
      "source": [
        ""
      ],
      "metadata": {
        "id": "ywoWUu4imtOp"
      }
    },
    {
      "cell_type": "markdown",
      "source": [
        ""
      ],
      "metadata": {
        "id": "6i-t7OYgmtQY"
      }
    },
    {
      "cell_type": "markdown",
      "source": [
        ""
      ],
      "metadata": {
        "id": "hVDrg-NzmtSj"
      }
    },
    {
      "cell_type": "markdown",
      "source": [
        ""
      ],
      "metadata": {
        "id": "WmBptI94mtT0"
      }
    },
    {
      "cell_type": "markdown",
      "source": [
        ""
      ],
      "metadata": {
        "id": "VFJqtHRzmtWM"
      }
    },
    {
      "cell_type": "markdown",
      "source": [
        ""
      ],
      "metadata": {
        "id": "VLBdN1_UmtYP"
      }
    },
    {
      "cell_type": "markdown",
      "source": [
        ""
      ],
      "metadata": {
        "id": "UEI1tE7amtaI"
      }
    },
    {
      "cell_type": "markdown",
      "source": [
        ""
      ],
      "metadata": {
        "id": "KM9qGWehmtb-"
      }
    },
    {
      "cell_type": "markdown",
      "source": [
        ""
      ],
      "metadata": {
        "id": "ZSX70SMLmteG"
      }
    },
    {
      "cell_type": "markdown",
      "source": [
        ""
      ],
      "metadata": {
        "id": "SuO3KiGEmtgU"
      }
    },
    {
      "cell_type": "markdown",
      "source": [
        ""
      ],
      "metadata": {
        "id": "wem4EH1EmtjJ"
      }
    }
  ]
}