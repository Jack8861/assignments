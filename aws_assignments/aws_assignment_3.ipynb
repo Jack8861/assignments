{
  "nbformat": 4,
  "nbformat_minor": 0,
  "metadata": {
    "colab": {
      "name": "aws_assignment_3.ipynb",
      "provenance": []
    },
    "kernelspec": {
      "name": "python3",
      "display_name": "Python 3"
    },
    "language_info": {
      "name": "python"
    }
  },
  "cells": [
    {
      "cell_type": "code",
      "execution_count": null,
      "metadata": {
        "id": "W6gjLBuImoIj"
      },
      "outputs": [],
      "source": [
        ""
      ]
    },
    {
      "cell_type": "markdown",
      "source": [
        "# 1. Explain the concept of auto-scaling.\n",
        "\n",
        "In real life the load on a website can change and in the cloud we can create a get a gride of servers quickly.\n",
        "\n",
        "The goal of auto scaling is:\n",
        "- scale out to match an increased load\n",
        "- scale in to match decreased load\n",
        "- To ensure that we the minimum and maximum number of machines running.\n",
        "- To replace unhealthy instances\n",
        "- Automatically register new instances to a load balancer.\n",
        "\n",
        "It helps in cost savings as we can provide just enough resources to operate at optimal capacity.\n",
        "\n",
        "\n",
        "# 2. Explain Cloud Formation Solution.\n",
        "\n",
        "Cloud Formation is a declarative way of outlining your AWS infrastructure, for any resources (most of them are supported).\n",
        "\n",
        "For example with cloud formation template you can say:\n",
        "- i want a security group\n",
        "- i want 2 ec2 instances using this security group\n",
        "- i want an s3 bucket.\n",
        "- i want a load balancer (ELB) in front of these machines\n",
        "\n",
        "Then Cloud Formation creates those for you, in the right order, with all excat configuration that you specify.\n",
        "\n",
        "\n",
        "#### Benifits:\n",
        "\n",
        "- Infrastructure as a code\n",
        "- cost\n",
        "- productivity\n",
        "- don't re-invent the wheel\n",
        "- supports (almost) all aws resources.\n",
        "\n",
        "\n",
        "# 3. Mention and explain AWS services that are not specialized to a specific location.\n",
        "\n",
        "\n",
        "- A global application is deployed in multiple geographies.\n",
        "\n",
        "- Decreased Latency: The time it takes for a packet to reach a server\n",
        "- Disaster Recovery: If an aws region goes down, you can fail over to another region.\n",
        "- Attack protection: distributed global infrastructure is harder to attack.\n",
        "\n",
        "\n",
        "# 4. What's the difference between pausing and terminating an Amazon Elastic Compute Cloud instance?\n",
        "\n",
        "- The pause simply stops the aws instance.\n",
        "- The terminate stops and deletes the instance completely\n",
        "\n",
        "\n",
        "# 5. Describe how to set up CloudWatch to recover an EC2 instance.\n",
        "\n",
        "- What cloud watch does is that is keeps track of the resources being used like the cpu capacity. so in order to recover an instance which will cause the cpu capacity to increase we can set a rule such that:\n",
        "- If the cpu capacity is say >70% then we can launch another instance. "
      ],
      "metadata": {
        "id": "VLBdN1_UmtYP"
      }
    },
    {
      "cell_type": "markdown",
      "source": [
        ""
      ],
      "metadata": {
        "id": "UEI1tE7amtaI"
      }
    },
    {
      "cell_type": "markdown",
      "source": [
        ""
      ],
      "metadata": {
        "id": "KM9qGWehmtb-"
      }
    },
    {
      "cell_type": "markdown",
      "source": [
        ""
      ],
      "metadata": {
        "id": "ZSX70SMLmteG"
      }
    },
    {
      "cell_type": "markdown",
      "source": [
        ""
      ],
      "metadata": {
        "id": "SuO3KiGEmtgU"
      }
    },
    {
      "cell_type": "markdown",
      "source": [
        ""
      ],
      "metadata": {
        "id": "wem4EH1EmtjJ"
      }
    }
  ]
}