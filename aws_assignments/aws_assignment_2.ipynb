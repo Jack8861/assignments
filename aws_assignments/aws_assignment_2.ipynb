{
  "nbformat": 4,
  "nbformat_minor": 0,
  "metadata": {
    "colab": {
      "name": "aws_assignment_2.ipynb",
      "provenance": []
    },
    "kernelspec": {
      "name": "python3",
      "display_name": "Python 3"
    },
    "language_info": {
      "name": "python"
    }
  },
  "cells": [
    {
      "cell_type": "code",
      "execution_count": null,
      "metadata": {
        "id": "W6gjLBuImoIj"
      },
      "outputs": [],
      "source": [
        ""
      ]
    },
    {
      "cell_type": "markdown",
      "source": [
        "# 1. Describe the significance of AWS.\n",
        "\n",
        "**AWS is widely used for the following reasons,**\n",
        "\n",
        "- It's easy to host dynamic websites as it allows to run of web and application servers in the cloud\n",
        "- Easy to store all your files so that you can access them from anywhere and anytime\n",
        "- It allows you to use managed databases including MySQL, Oracle or SQL, PostgreSQL to store data\n",
        "- With the use of the content delivery network, it delivers static and dynamic files faster\n",
        "- With AWS, it's simple to send bulk email to your clients or customers effectively\n",
        "\n",
        "# 2. Explain what EC2 is?\n",
        "\n",
        "It stands for elastic Compute Cloud (Infrastructure as a service).\n",
        "\n",
        "It can:\n",
        "- rent VM's\n",
        "- storing data on vitual drives\n",
        "- Distributing load across machines\n",
        "- Scaling the services using an auto scaling group.\n",
        "\n",
        "Types:\n",
        "\n",
        "- General purpose EC2 instances\n",
        "- Compute optimized (which requires high performance processors)\n",
        "- Memory optimized (When we have large datasets)\n",
        "- Storage Optimized. (data ware houses, storage intensive tasks, high frequency online trasaction processing systems).\n",
        "\n",
        "\n",
        "# 3. Explain the working of S3 and list various types of instances.\n",
        "\n",
        "Amazon s3 is one of the main building blocks of aws, it is called infinitely scaling storage (ebs is stored in s3).\n",
        "\n",
        "It allows people to store objects (files) in \"buckets\" (directories), they must have a globally unique name (across all regions and all accounts).\n",
        "\n",
        "Buckets are defined at the region level.\n",
        "\n",
        "the naming convention for aws s3 buckets:\n",
        "- no uppercase\n",
        "- no underscore\n",
        "- 3-63 characters long\n",
        "- not an ip\n",
        "- must start with lowercase letter or number.\n",
        "\n",
        "Thes objects have a key: the key is composed of prefix + object name:\n",
        "eg: s3://my-bucket/my_folder_another_folder/my_file.txt\n",
        "\n",
        "there is no concept of directories in buckets but the ui gives you that feel, its just long names with slashes '/'.\n",
        "\n",
        "objects have max size of 5tb.\n",
        "\n",
        "- it has version id id versioning is enabled\n",
        "- Metadata (list of key/value pairs- system or user metadata) \n",
        "- tags (unicode key / value pair- up to 10 ) - useful in security or lifecycle\n",
        "\n",
        "- S3 can host static websites and have them accessible on the www\n",
        "\n",
        "The websie url will be:\n",
        "<bucket name>.s3-website.<aws-region>.amazonaws.com\n",
        "\n",
        "for me it was: http://demo-jack-786.s3-website-ap-southeast-1.amazonaws.com/\n",
        "\n",
        "\n",
        "we can also do versioning for objects which is ofcourse a good practice so we don't delete the objects.\n",
        "\n",
        "\n",
        "### types of s3:\n",
        "\n",
        "-  amazon s3 standard - general purpose\n",
        "- amazon s3 standard-infrequent access (IA)\n",
        "-  amazon s3 one zone - infrequent access\n",
        "-  amazon s3 intelligent tiering\n",
        "-  amazon glacier\n",
        "-  amazon glacier deep archive\n",
        "-  amazon s3 reduced reduncancy storage (deprecated- omitted)\n",
        "\n",
        "Types of ec2 instances:\n",
        "\n",
        "- General purpose EC2 instances\n",
        "- Compute optimized (which requires high performance processors)\n",
        "- Memory optimized (When we have large datasets)\n",
        "- Storage Optimized. (data ware houses, storage intensive tasks, high frequency online trasaction processing systems).\n",
        "\n",
        "\n",
        "# 4. Explain the importance of IAM in AWS.\n",
        "\n",
        "- IAM is crucial to protecting sensitive enterprise systems, assets, and information from unauthorized access or use. \n",
        "- This represents the systematic management of any single identity and provides authentication, authorization, privileges, and roles of the enterprise boundaries. \n",
        "\n",
        "- The primary goal is to upgrade security and productivity by decreasing the total cost, repetitive tasks, and system downtime. \n",
        "- Identity access management in cloud computing covers all types of users who can work with defined devices under unlike circumstances. "
      ],
      "metadata": {
        "id": "VFJqtHRzmtWM"
      }
    },
    {
      "cell_type": "markdown",
      "source": [
        ""
      ],
      "metadata": {
        "id": "VLBdN1_UmtYP"
      }
    },
    {
      "cell_type": "markdown",
      "source": [
        ""
      ],
      "metadata": {
        "id": "UEI1tE7amtaI"
      }
    },
    {
      "cell_type": "markdown",
      "source": [
        ""
      ],
      "metadata": {
        "id": "KM9qGWehmtb-"
      }
    },
    {
      "cell_type": "markdown",
      "source": [
        ""
      ],
      "metadata": {
        "id": "ZSX70SMLmteG"
      }
    },
    {
      "cell_type": "markdown",
      "source": [
        ""
      ],
      "metadata": {
        "id": "SuO3KiGEmtgU"
      }
    },
    {
      "cell_type": "markdown",
      "source": [
        ""
      ],
      "metadata": {
        "id": "wem4EH1EmtjJ"
      }
    }
  ]
}