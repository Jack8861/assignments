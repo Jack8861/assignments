{
  "nbformat": 4,
  "nbformat_minor": 0,
  "metadata": {
    "colab": {
      "name": "Untitled6.ipynb",
      "provenance": [],
      "collapsed_sections": []
    },
    "kernelspec": {
      "name": "python3",
      "display_name": "Python 3"
    },
    "language_info": {
      "name": "python"
    }
  },
  "cells": [
    {
      "cell_type": "code",
      "execution_count": null,
      "metadata": {
        "id": "Z-uXn9SsLXLP"
      },
      "outputs": [],
      "source": [
        ""
      ]
    },
    {
      "cell_type": "markdown",
      "source": [
        "1.\n",
        "The grammar defined by regular expressions is known as regular grammar. Both have the same expressive power, regular expressions are more human understandable and regular grammar's are logics which can be used by a machine."
      ],
      "metadata": {
        "id": "SSiFskLsT3Kq"
      }
    },
    {
      "cell_type": "markdown",
      "source": [
        "2.\n",
        "\n",
        "It is the process of determining the syntactic structure of a text by analyzing its constituent words based on an underlying grammar of the language."
      ],
      "metadata": {
        "id": "LB88wbv5T3Mw"
      }
    },
    {
      "cell_type": "markdown",
      "source": [
        "3.\n",
        "For every word we calculate:\n",
        "\n",
        "(The frequency of occurence of that word)*log(Total number of documents / Number of documents containing that word)"
      ],
      "metadata": {
        "id": "-KCeqWzFT3RO"
      }
    },
    {
      "cell_type": "markdown",
      "source": [
        "4. \n",
        "\n",
        "- sentence segmentation\n",
        "- word tokenization\n",
        "- stemming\n",
        "- lemmetization\n",
        "- Identifying stop words"
      ],
      "metadata": {
        "id": "uspVDyXRT3TO"
      }
    },
    {
      "cell_type": "markdown",
      "source": [
        "5.\n",
        "\n",
        "- Voice based interfaces\n",
        "- Text based interfaces"
      ],
      "metadata": {
        "id": "6bfLXztVT3VK"
      }
    },
    {
      "cell_type": "markdown",
      "source": [
        "\n",
        "6 \"I am really happy.\"\n",
        "\n",
        "unigram:\n",
        "\n",
        "[\"I\", \"am\", \"really\", \"happy\"]\n",
        "\n",
        "bi-gram:\n",
        "\n",
        "[\"I am\", \"am really\", \"really happy\"]"
      ],
      "metadata": {
        "id": "2oJu8t_GT3XQ"
      }
    },
    {
      "cell_type": "markdown",
      "source": [
        ""
      ],
      "metadata": {
        "id": "-IwBJI6PT3ZP"
      }
    },
    {
      "cell_type": "markdown",
      "source": [
        ""
      ],
      "metadata": {
        "id": "4uT0LsAyT3bV"
      }
    },
    {
      "cell_type": "markdown",
      "source": [
        ""
      ],
      "metadata": {
        "id": "UOEtESZMT3dr"
      }
    },
    {
      "cell_type": "markdown",
      "source": [
        ""
      ],
      "metadata": {
        "id": "i3H3Y3vAT3fr"
      }
    },
    {
      "cell_type": "markdown",
      "source": [
        ""
      ],
      "metadata": {
        "id": "a7JDjPf_T3hp"
      }
    },
    {
      "cell_type": "markdown",
      "source": [
        "]"
      ],
      "metadata": {
        "id": "XQXhC-XWT3lD"
      }
    }
  ]
}