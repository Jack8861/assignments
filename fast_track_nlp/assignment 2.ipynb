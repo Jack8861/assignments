{
  "nbformat": 4,
  "nbformat_minor": 0,
  "metadata": {
    "colab": {
      "name": "Untitled6.ipynb",
      "provenance": [],
      "collapsed_sections": []
    },
    "kernelspec": {
      "name": "python3",
      "display_name": "Python 3"
    },
    "language_info": {
      "name": "python"
    }
  },
  "cells": [
    {
      "cell_type": "code",
      "execution_count": null,
      "metadata": {
        "id": "Z-uXn9SsLXLP"
      },
      "outputs": [],
      "source": [
        ""
      ]
    },
    {
      "cell_type": "markdown",
      "source": [
        "1.\n",
        "first install nltk library:\n",
        "\n",
        "- `python -m pip install nltk`\n",
        "\n",
        "To tokenize we can import as:\n",
        "\n",
        "- `from nltk.tokenize import sent_tokenize, word_tokenize`\n",
        "\n",
        "- `sent_tokenize(\"hello world)`\n",
        "\n",
        "output:\n",
        " - ['hello', 'world']\n",
        "\n",
        " To filter stopping words:\n",
        "\n",
        "```\n",
        "nltk.download(\"stopwords\")\n",
        "from nltk.corpus import stopwords\n",
        "from nltk.tokenize import word_tokenize\n",
        "\n",
        "worf_quote = \"Sir, I protest. I am not a merry man!\"\n",
        "words_in_quote = word_tokenize(worf_quote)\n",
        "words_in_quote\n",
        "\n",
        "output:\n",
        " \n",
        "['Sir', ',', 'protest', '.', 'merry', 'man', '!']\n",
        "```\n",
        "\n",
        "For stemming:\n",
        "\n",
        "```\n",
        "from nltk.stem import PorterStemmer\n",
        "from nltk.tokenize import word_tokenize\n",
        "\n",
        "stemmer = PorterStemmer()\n",
        "\n",
        "words = word_tokenize(\"representation\")\n",
        "\n",
        "words\n",
        "\n",
        "output:\n",
        "\n",
        "represent\n",
        "\n",
        "```\n",
        "\n",
        "\n",
        "\n",
        "\n",
        "\n"
      ],
      "metadata": {
        "id": "ut4now-BPj4P"
      }
    },
    {
      "cell_type": "markdown",
      "source": [
        "2.\n",
        "- \tWord segmentation\n",
        "- \tIntent segmentation\n",
        "- \tSentence segmentation\n",
        "- \tTopic segmentation\n"
      ],
      "metadata": {
        "id": "GguSMNeWRu8c"
      }
    },
    {
      "cell_type": "markdown",
      "source": [
        "3. \n",
        "Named Entity Recognition"
      ],
      "metadata": {
        "id": "zl5Vfu8xRvDn"
      }
    },
    {
      "cell_type": "markdown",
      "source": [
        ""
      ],
      "metadata": {
        "id": "0AIn1bH3RvHO"
      }
    },
    {
      "cell_type": "markdown",
      "source": [
        "4.\n",
        "- Lexical Analysis and Morphological\n",
        "\n",
        "- Syntactic Analysis (Parsing)\n",
        "\n",
        "- Semantic Analysis\n",
        "\n",
        "- Discourse Integration\n",
        "\n",
        "- Pragmatic Analysis"
      ],
      "metadata": {
        "id": "p1WPII5pRvKz"
      }
    },
    {
      "cell_type": "markdown",
      "source": [
        "5.\n",
        "\n",
        "example: \"Open the door\" is interpreted as a request instead of an order."
      ],
      "metadata": {
        "id": "ekSMiDPPRvSZ"
      }
    },
    {
      "cell_type": "markdown",
      "source": [
        "6.\n",
        "\n",
        "The first phase of NLP is the Lexical Analysis. This phase scans the source code as a stream of characters and converts it into meaningful lexemes. It divides the whole text into paragraphs, sentences, and words.\n",
        "\n",
        "Morphological parsing, in natural language processing, is the process of determining the morphemes from which a given word is constructed. "
      ],
      "metadata": {
        "id": "EexORoytTF_E"
      }
    }
  ]
}