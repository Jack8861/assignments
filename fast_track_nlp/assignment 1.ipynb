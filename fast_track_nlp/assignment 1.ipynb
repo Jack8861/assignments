{
  "nbformat": 4,
  "nbformat_minor": 0,
  "metadata": {
    "colab": {
      "name": "Untitled6.ipynb",
      "provenance": []
    },
    "kernelspec": {
      "name": "python3",
      "display_name": "Python 3"
    },
    "language_info": {
      "name": "python"
    }
  },
  "cells": [
    {
      "cell_type": "code",
      "execution_count": null,
      "metadata": {
        "id": "Z-uXn9SsLXLP"
      },
      "outputs": [],
      "source": [
        ""
      ]
    },
    {
      "cell_type": "markdown",
      "source": [
        " 1. NLP stands for natural language processing. It deals with solving problems where understanding the meaning of the words, sentences is important\n",
        "\n",
        "2. NLP stands for Natural Lanuguage Processing.\n",
        "\n",
        "3.\n",
        "- image captioning\n",
        "\n",
        "- mom\n",
        "\n",
        "- spelling corrector\n",
        "\n",
        "- text summarization\n",
        "\n",
        "\n",
        "4. spaCy is python library for advanced natural language processing. It is Better then nltk.\n",
        "\n",
        "\n",
        "5. NLTK can be used for many text operations like stemming, lemmatization, pos, chunking and Named Entity Recognition,\n",
        " Frequency Distribution, etc,. it has many such uses.\n",
        "\n",
        "\n",
        "6. corpus, tokenize, stem, pos_tag, book, FreqDist, etc,."
      ],
      "metadata": {
        "id": "v6tKPEsOLblR"
      }
    },
    {
      "cell_type": "code",
      "source": [
        ""
      ],
      "metadata": {
        "id": "gI0yVi0gMChq"
      },
      "execution_count": null,
      "outputs": []
    }
  ]
}