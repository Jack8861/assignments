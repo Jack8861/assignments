{
  "nbformat": 4,
  "nbformat_minor": 0,
  "metadata": {
    "colab": {
      "name": "Untitled6.ipynb",
      "provenance": [],
      "collapsed_sections": []
    },
    "kernelspec": {
      "name": "python3",
      "display_name": "Python 3"
    },
    "language_info": {
      "name": "python"
    }
  },
  "cells": [
    {
      "cell_type": "markdown",
      "source": [
        "1.\n",
        "Lemmetization is the process of converting words into their root form or lemma.\n"
      ],
      "metadata": {
        "id": "Xyst_jKlXVCD"
      }
    },
    {
      "cell_type": "markdown",
      "source": [
        "2.\n",
        "\n",
        "Natural Language Understanding is making machine able to understand human language. The advantage of this is that we can summarize text, better Q and A and overall human-machine interaction in general."
      ],
      "metadata": {
        "id": "jrje3pe6ex2C"
      }
    },
    {
      "cell_type": "markdown",
      "source": [
        "3.\n",
        "\n",
        "Stop words are the words that are too commonly used like a, are, etc and because they are used so often they carry little useful information."
      ],
      "metadata": {
        "id": "aIZ-HSR-ex4d"
      }
    },
    {
      "cell_type": "markdown",
      "source": [
        "4. \n",
        "\n",
        "\n",
        "Corpus juris is Latin for “body of law.” It may also be the title of a large, encyclopedic collection of laws, comprising an entire body of law."
      ],
      "metadata": {
        "id": "Z69LAMNYex6I"
      }
    },
    {
      "cell_type": "markdown",
      "source": [
        "5. \n",
        "Mechanisms for identifying hidden meaning in a portion of natural language content are provided. A primary portion of natural language content is received and a secondary portion of natural language content is identified that references the natural language content. The secondary portion of natural language content is analyzed to identify indications of meaning directed to elements of the primary portion of natural language content. A probabilistic model is generated based on the secondary portion of natural language content modeling a probability of hidden meaning in the primary portion of natural language content. A hidden meaning statement data structure is generated for the primary portion of natural language content based on the probabilistic model."
      ],
      "metadata": {
        "id": "pa-L3Yxdex8b"
      }
    },
    {
      "cell_type": "markdown",
      "source": [
        "6. \n",
        "\n",
        "Normal we would just asign a unique number to each word or represent a word in terms of bits. We can convert these bits into vectors by trying to train a neural network using these bit representations and then using the weights of the first layers in the network as our vectors. These weights are trained so they carry information and can be used."
      ],
      "metadata": {
        "id": "tcVcdb33ex-h"
      }
    },
    {
      "cell_type": "markdown",
      "source": [
        ""
      ],
      "metadata": {
        "id": "C4o9E0gaeyB3"
      }
    },
    {
      "cell_type": "markdown",
      "source": [
        ""
      ],
      "metadata": {
        "id": "BYK1YY_iXVHR"
      }
    },
    {
      "cell_type": "markdown",
      "source": [
        ""
      ],
      "metadata": {
        "id": "a7JDjPf_T3hp"
      }
    },
    {
      "cell_type": "markdown",
      "source": [
        "]"
      ],
      "metadata": {
        "id": "XQXhC-XWT3lD"
      }
    }
  ]
}